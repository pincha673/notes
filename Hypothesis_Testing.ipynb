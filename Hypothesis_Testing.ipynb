{
  "nbformat": 4,
  "nbformat_minor": 0,
  "metadata": {
    "colab": {
      "provenance": [],
      "authorship_tag": "ABX9TyMqQ853N3NLXKtdN6ToYgh7",
      "include_colab_link": true
    },
    "kernelspec": {
      "name": "python3",
      "display_name": "Python 3"
    },
    "language_info": {
      "name": "python"
    }
  },
  "cells": [
    {
      "cell_type": "markdown",
      "metadata": {
        "id": "view-in-github",
        "colab_type": "text"
      },
      "source": [
        "<a href=\"https://colab.research.google.com/github/pincha673/notes/blob/main/Hypothesis_Testing.ipynb\" target=\"_parent\"><img src=\"https://colab.research.google.com/assets/colab-badge.svg\" alt=\"Open In Colab\"/></a>"
      ]
    },
    {
      "cell_type": "code",
      "source": [
        "s"
      ],
      "metadata": {
        "id": "6pQY1Wfw9Bnz"
      },
      "execution_count": null,
      "outputs": []
    },
    {
      "cell_type": "markdown",
      "source": [
        "# *Example Super Market**"
      ],
      "metadata": {
        "id": "FSBhLyHjYPtp"
      }
    },
    {
      "cell_type": "code",
      "source": [
        "import scipy\n",
        "import pandas as pd\n",
        "import numpy as np\n",
        "from scipy import stats"
      ],
      "metadata": {
        "id": "qTzjsnf6Yaf4"
      },
      "execution_count": 1,
      "outputs": []
    },
    {
      "cell_type": "code",
      "source": [
        "stats.t.cdf(-2.23,df=79)"
      ],
      "metadata": {
        "colab": {
          "base_uri": "https://localhost:8080/"
        },
        "id": "b_7CeJ5RYaEo",
        "outputId": "dc3c9f3e-2aed-4be0-9727-fdcd8728def6"
      },
      "execution_count": null,
      "outputs": [
        {
          "output_type": "execute_result",
          "data": {
            "text/plain": [
              "0.014292908802574061"
            ]
          },
          "metadata": {},
          "execution_count": 11
        }
      ]
    },
    {
      "cell_type": "code",
      "source": [
        "1-stats.t.cdf(2.23,df=79)      # probability for the right tail"
      ],
      "metadata": {
        "colab": {
          "base_uri": "https://localhost:8080/"
        },
        "id": "X-yyugfaYZnI",
        "outputId": "5089a0f1-ab13-4086-f401-261fdcb364c2"
      },
      "execution_count": null,
      "outputs": [
        {
          "output_type": "execute_result",
          "data": {
            "text/plain": [
              "0.014292908802574056"
            ]
          },
          "metadata": {},
          "execution_count": 4
        }
      ]
    },
    {
      "cell_type": "markdown",
      "source": [
        "# **Call Centre**"
      ],
      "metadata": {
        "id": "Kz2aAX_r1ZX-"
      }
    },
    {
      "cell_type": "code",
      "source": [
        "p1 = stats.t.cdf(-1.41,49)            # P value at left side of ND"
      ],
      "metadata": {
        "id": "b6ECQKcZ3QHG"
      },
      "execution_count": 3,
      "outputs": []
    },
    {
      "cell_type": "code",
      "source": [
        "p1"
      ],
      "metadata": {
        "colab": {
          "base_uri": "https://localhost:8080/"
        },
        "id": "wkoLurcy3d4Q",
        "outputId": "13da04e7-1f5d-4ebe-ce20-6c61727df0f7"
      },
      "execution_count": 4,
      "outputs": [
        {
          "output_type": "execute_result",
          "data": {
            "text/plain": [
              "0.08242797259022736"
            ]
          },
          "metadata": {},
          "execution_count": 4
        }
      ]
    },
    {
      "cell_type": "code",
      "source": [
        "p2 = 1-stats.t.cdf(1.41,49)            # P value at right side of ND"
      ],
      "metadata": {
        "id": "NV5K9nGX3fB5"
      },
      "execution_count": 5,
      "outputs": []
    },
    {
      "cell_type": "code",
      "source": [
        "p2"
      ],
      "metadata": {
        "colab": {
          "base_uri": "https://localhost:8080/"
        },
        "id": "N4lCKZZC3qGo",
        "outputId": "141a533b-30ac-4c01-ce93-045f06f9017b"
      },
      "execution_count": 6,
      "outputs": [
        {
          "output_type": "execute_result",
          "data": {
            "text/plain": [
              "0.08242797259022738"
            ]
          },
          "metadata": {},
          "execution_count": 6
        }
      ]
    },
    {
      "cell_type": "code",
      "source": [
        "p1+p2                                  # P value of the whole data          [P>0.05,so null hypothesis is correct]"
      ],
      "metadata": {
        "colab": {
          "base_uri": "https://localhost:8080/"
        },
        "id": "7jCCJLqG5Rhi",
        "outputId": "d6f0dd6e-c663-449f-f1b6-2b05f30b97a5"
      },
      "execution_count": 7,
      "outputs": [
        {
          "output_type": "execute_result",
          "data": {
            "text/plain": [
              "0.16485594518045474"
            ]
          },
          "metadata": {},
          "execution_count": 7
        }
      ]
    },
    {
      "cell_type": "code",
      "source": [
        "2*stats.t.cdf(-1.41,df=49)                    # P value in one code for 10th day"
      ],
      "metadata": {
        "id": "uW0pgh_b6y71",
        "colab": {
          "base_uri": "https://localhost:8080/"
        },
        "outputId": "2ce5f08e-9efc-407a-f979-97fb7888d352"
      },
      "execution_count": 8,
      "outputs": [
        {
          "output_type": "execute_result",
          "data": {
            "text/plain": [
              "0.1648559451804547"
            ]
          },
          "metadata": {},
          "execution_count": 8
        }
      ]
    },
    {
      "cell_type": "code",
      "source": [
        "data =(4-4.6)/(3/np.sqrt(50))                   # code to find t score"
      ],
      "metadata": {
        "id": "jvoP30_c9VXn"
      },
      "execution_count": 9,
      "outputs": []
    },
    {
      "cell_type": "code",
      "source": [
        "data"
      ],
      "metadata": {
        "colab": {
          "base_uri": "https://localhost:8080/"
        },
        "id": "pWcpeXbOCH7_",
        "outputId": "189edec4-4fab-4eb3-d72e-f4189be392f4"
      },
      "execution_count": 10,
      "outputs": [
        {
          "output_type": "execute_result",
          "data": {
            "text/plain": [
              "-1.4142135623730943"
            ]
          },
          "metadata": {},
          "execution_count": 10
        }
      ]
    },
    {
      "cell_type": "code",
      "source": [
        "t = (4-3.7)/(3/np.sqrt(50))                     # t value for 1st day"
      ],
      "metadata": {
        "id": "T0RKiIuhCN8h"
      },
      "execution_count": 11,
      "outputs": []
    },
    {
      "cell_type": "code",
      "source": [
        "t"
      ],
      "metadata": {
        "colab": {
          "base_uri": "https://localhost:8080/"
        },
        "id": "8dVXIRwiDnSE",
        "outputId": "4f998185-0df7-4c10-b34e-25bcfc1919cc"
      },
      "execution_count": 12,
      "outputs": [
        {
          "output_type": "execute_result",
          "data": {
            "text/plain": [
              "0.7071067811865471"
            ]
          },
          "metadata": {},
          "execution_count": 12
        }
      ]
    },
    {
      "cell_type": "code",
      "source": [
        "2*stats.t.cdf(-0.707,df=49)                      # p value of 1st day "
      ],
      "metadata": {
        "colab": {
          "base_uri": "https://localhost:8080/"
        },
        "id": "5B6ZRQHNDoZN",
        "outputId": "5edcfa76-c530-4499-cdc9-24a7a47d985e"
      },
      "execution_count": 13,
      "outputs": [
        {
          "output_type": "execute_result",
          "data": {
            "text/plain": [
              "0.4829153376667895"
            ]
          },
          "metadata": {},
          "execution_count": 13
        }
      ]
    },
    {
      "cell_type": "code",
      "source": [
        "t2 = (4-4.1)/(3/np.sqrt(50))"
      ],
      "metadata": {
        "id": "ZHSaB7rED4XQ"
      },
      "execution_count": 14,
      "outputs": []
    },
    {
      "cell_type": "code",
      "source": [
        "t2"
      ],
      "metadata": {
        "colab": {
          "base_uri": "https://localhost:8080/"
        },
        "id": "f3sB2Rri5B8V",
        "outputId": "6a5f0774-6c75-4402-dc6c-ad79cc4a4ef5"
      },
      "execution_count": 15,
      "outputs": [
        {
          "output_type": "execute_result",
          "data": {
            "text/plain": [
              "-0.235702260395515"
            ]
          },
          "metadata": {},
          "execution_count": 15
        }
      ]
    },
    {
      "cell_type": "code",
      "source": [
        "2*stats.t.cdf(-0.235,df=49)"
      ],
      "metadata": {
        "colab": {
          "base_uri": "https://localhost:8080/"
        },
        "id": "GhBO9qQe5DeT",
        "outputId": "484d3611-fb4b-4831-cbef-fb0c8179cebf"
      },
      "execution_count": 16,
      "outputs": [
        {
          "output_type": "execute_result",
          "data": {
            "text/plain": [
              "0.8151880487458036"
            ]
          },
          "metadata": {},
          "execution_count": 16
        }
      ]
    },
    {
      "cell_type": "code",
      "source": [],
      "metadata": {
        "id": "lEwgz7Qf5eIB"
      },
      "execution_count": null,
      "outputs": []
    }
  ]
}