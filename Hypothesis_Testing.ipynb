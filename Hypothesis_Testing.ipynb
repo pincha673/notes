{
  "nbformat": 4,
  "nbformat_minor": 0,
  "metadata": {
    "colab": {
      "provenance": [],
      "authorship_tag": "ABX9TyPvCyGAb7G2SiyQr67Z+2C+",
      "include_colab_link": true
    },
    "kernelspec": {
      "name": "python3",
      "display_name": "Python 3"
    },
    "language_info": {
      "name": "python"
    }
  },
  "cells": [
    {
      "cell_type": "markdown",
      "metadata": {
        "id": "view-in-github",
        "colab_type": "text"
      },
      "source": [
        "<a href=\"https://colab.research.google.com/github/pincha673/notes/blob/main/Hypothesis_Testing.ipynb\" target=\"_parent\"><img src=\"https://colab.research.google.com/assets/colab-badge.svg\" alt=\"Open In Colab\"/></a>"
      ]
    },
    {
      "cell_type": "markdown",
      "source": [
        "# *Example Super Market**"
      ],
      "metadata": {
        "id": "FSBhLyHjYPtp"
      }
    },
    {
      "cell_type": "code",
      "source": [
        "import scipy\n",
        "import pandas as pd\n",
        "import numpy as np\n",
        "from scipy import stats"
      ],
      "metadata": {
        "id": "qTzjsnf6Yaf4"
      },
      "execution_count": 2,
      "outputs": []
    },
    {
      "cell_type": "code",
      "source": [
        "stats.t.cdf(-2.23,df=79)"
      ],
      "metadata": {
        "colab": {
          "base_uri": "https://localhost:8080/"
        },
        "id": "b_7CeJ5RYaEo",
        "outputId": "dc3c9f3e-2aed-4be0-9727-fdcd8728def6"
      },
      "execution_count": 11,
      "outputs": [
        {
          "output_type": "execute_result",
          "data": {
            "text/plain": [
              "0.014292908802574061"
            ]
          },
          "metadata": {},
          "execution_count": 11
        }
      ]
    },
    {
      "cell_type": "code",
      "source": [
        "1-stats.t.cdf(2.23,df=79)      # probability for the right tail"
      ],
      "metadata": {
        "colab": {
          "base_uri": "https://localhost:8080/"
        },
        "id": "X-yyugfaYZnI",
        "outputId": "5089a0f1-ab13-4086-f401-261fdcb364c2"
      },
      "execution_count": null,
      "outputs": [
        {
          "output_type": "execute_result",
          "data": {
            "text/plain": [
              "0.014292908802574056"
            ]
          },
          "metadata": {},
          "execution_count": 4
        }
      ]
    },
    {
      "cell_type": "markdown",
      "source": [
        "# **Call Centre**"
      ],
      "metadata": {
        "id": "Kz2aAX_r1ZX-"
      }
    },
    {
      "cell_type": "code",
      "source": [
        "p1 = stats.t.cdf(-1.41,49)            # P value at left side of ND"
      ],
      "metadata": {
        "id": "b6ECQKcZ3QHG"
      },
      "execution_count": 3,
      "outputs": []
    },
    {
      "cell_type": "code",
      "source": [
        "p1"
      ],
      "metadata": {
        "colab": {
          "base_uri": "https://localhost:8080/"
        },
        "id": "wkoLurcy3d4Q",
        "outputId": "b318cbe5-15db-48c1-f8e3-c77a3674cbef"
      },
      "execution_count": 4,
      "outputs": [
        {
          "output_type": "execute_result",
          "data": {
            "text/plain": [
              "0.08242797259022736"
            ]
          },
          "metadata": {},
          "execution_count": 4
        }
      ]
    },
    {
      "cell_type": "code",
      "source": [
        "p2 = 1-stats.t.cdf(1.41,49)            # P value at right side of ND"
      ],
      "metadata": {
        "id": "NV5K9nGX3fB5"
      },
      "execution_count": 5,
      "outputs": []
    },
    {
      "cell_type": "code",
      "source": [
        "p2"
      ],
      "metadata": {
        "colab": {
          "base_uri": "https://localhost:8080/"
        },
        "id": "N4lCKZZC3qGo",
        "outputId": "df3395d5-1490-4313-9389-13dc5df1a922"
      },
      "execution_count": 6,
      "outputs": [
        {
          "output_type": "execute_result",
          "data": {
            "text/plain": [
              "0.08242797259022738"
            ]
          },
          "metadata": {},
          "execution_count": 6
        }
      ]
    },
    {
      "cell_type": "code",
      "source": [
        "p1+p2                                  # P value of the whole data          [P>0.05,so null hypothesis is correct]"
      ],
      "metadata": {
        "colab": {
          "base_uri": "https://localhost:8080/"
        },
        "id": "7jCCJLqG5Rhi",
        "outputId": "3c1e2222-47c5-4a47-ccd7-3203434d221c"
      },
      "execution_count": 10,
      "outputs": [
        {
          "output_type": "execute_result",
          "data": {
            "text/plain": [
              "0.16485594518045474"
            ]
          },
          "metadata": {},
          "execution_count": 10
        }
      ]
    },
    {
      "cell_type": "code",
      "source": [],
      "metadata": {
        "id": "uW0pgh_b6y71"
      },
      "execution_count": null,
      "outputs": []
    }
  ]
}